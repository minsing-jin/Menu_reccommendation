{
  "nbformat": 4,
  "nbformat_minor": 0,
  "metadata": {
    "colab": {
      "provenance": [],
      "mount_file_id": "16K4CsUDh0BxIA0ebrDvhjdeNvf8n91J-",
      "authorship_tag": "ABX9TyNT+V2KPA3AJ9U/Pqi7HTLc",
      "include_colab_link": true
    },
    "kernelspec": {
      "name": "python3",
      "display_name": "Python 3"
    },
    "language_info": {
      "name": "python"
    }
  },
  "cells": [
    {
      "cell_type": "markdown",
      "metadata": {
        "id": "view-in-github",
        "colab_type": "text"
      },
      "source": [
        "<a href=\"https://colab.research.google.com/github/minsing-jin/Menu_reccommendation/blob/main/menu_recommendation_bot.ipynb\" target=\"_parent\"><img src=\"https://colab.research.google.com/assets/colab-badge.svg\" alt=\"Open In Colab\"/></a>"
      ]
    },
    {
      "cell_type": "markdown",
      "source": [
        "# MENU recommendation program\n",
        "\n",
        "- 자취 예산을 맞춰서 자동으로 2주치 식단표를 짜주는 프로그램입니다\n",
        "\n",
        "- 예산을 입력하면 쿠팡 식재료 최저가 기준으로 끼니마다의 메뉴들을 예산 아래로 맞춰주어 자동으로 식단표를 추천해줍니다.\n",
        "\n",
        "- 자취 기준이므로 빨리 해먹고 빨리 치울수 있는 것으로 하는 메뉴로 선정했습니다.\n",
        "\n",
        "# Motivation\n",
        "- koprivategpt 프로젝트를 진행하기 위해서 맥북 프로 구입으로 인한 갑작스러운 가난 이슈\n",
        "\n",
        "- 자취밥값 계산하려다가 급 귀찮아짐 issue(하나하나 다 계산하는거 너무 귀찮아유)\n",
        "\n",
        "# 필요한것\n",
        "- 메뉴당 얼마가 들지 항시 업데이트 or 프로그램 돌릴때마다 업데이트(csv파일 수작업)\n",
        "> 메뉴당 어떠한 식재료가 필요한가 초반 csv 파일 작업 후 pandas로 불러온다음 메뉴의 값은 프로그램에서 돌리면서 업데이트\n",
        "\n",
        " > 메뉴판 구성할때 categorize를 하여 식단표 구성할때 옵션을 구성\n",
        "\n",
        "\n",
        "- 쿠팡 식재료 종류 자동검색 및 최저가에 해당하는 식재료 크롤링 후 선별\n",
        "\n",
        "- 링크 포함\n",
        "\n",
        "- 식단표에 해당하는 table 자동 작성 기능\n",
        "\n",
        "- 시간 가용한대로 slack bot에 전달\n",
        "\n",
        "- 한식일경우 메인메뉴와 반찬의 조합을 따질것\n",
        "\n",
        "### 검색 조건 및 선택지\n",
        "\n",
        "- 반찬 완제품으로 할것인가?\n",
        "\n",
        "- 예산은 얼마나 쓸것인가?\n",
        "\n",
        "- 밀키트를 얼마나 쓸것인가?\n",
        "\n",
        "- 양식, 중식, 한식, 일식 비율\n",
        "\n",
        "### Issue\n",
        "\n",
        "- 양념과 같은 것은 어떻게 할것인가?(한번 사면 꽤 오래 쓰는 것들)\n",
        ">3달에 한번씩 사는걸로 하고 시세만 계산해주기<br>\n",
        "그 시세를 3으로 나눈후(1달당 소비되는 양에 대한 양념가격) 예산입력후 미리 차감하여 메뉴 구성\n",
        "\n",
        "- 식재료마다 소진되는 속도차이는 어떻게 해결할것인가?\n",
        "\n",
        "- 돼지고기 같은 소분해야하는 식재료들은 어떻게 분배할것인가? -> 조건설정\n",
        "\n",
        "- 식재료 한번 사면 얼마나 분배? 식재료 특성들 다 마킹해서 몇번 쓸 수 있을지 점수로 분배?\n",
        "\n",
        "- 기본 템들은 어떻게 할것? 매번 살수는 없음\n",
        "\n",
        "default item\n",
        "1. 밥(한달로 계산)\n",
        "2. 간장\n",
        "3. 깨\n",
        "4. 소금\n",
        "5.\n",
        "\n",
        "\n",
        "- 반찬은 따로 구입(너무 시간 많이 듦)\n",
        "\n",
        "- 아니면 재료마다 쿠팡 최저가 검색후\n",
        "가격에 쓸수 있는 횟수를 나눠서 1회 평균 사용가격으로 예산 맞추기?\n",
        "\n",
        "- 장보기 recommendation\n",
        "\n",
        "- 음식하는 시간은 최대한 줄일 수 있도록 시간을 벌 수 있는 메뉴로 구성하기\n",
        "\n",
        "- 아예 밀키트로 구성할까?\n",
        "\n",
        "- 일주일 3일 닭가슴살\n",
        "\n"
      ],
      "metadata": {
        "id": "6Ti1WZq7RU2c"
      }
    },
    {
      "cell_type": "markdown",
      "source": [
        "# 메뉴판 업데이트"
      ],
      "metadata": {
        "id": "RILER8ZQT2Jt"
      }
    },
    {
      "cell_type": "markdown",
      "source": [
        "## CSV파일 불러오기"
      ],
      "metadata": {
        "id": "5QvjgS3gWoP_"
      }
    },
    {
      "cell_type": "code",
      "source": [
        "from google.colab import drive\n",
        "drive.mount('/content/drive')"
      ],
      "metadata": {
        "colab": {
          "base_uri": "https://localhost:8080/"
        },
        "id": "JphEWIARCk68",
        "outputId": "c37a1cdc-c938-4dee-faf8-f0b5c9d04121"
      },
      "execution_count": 25,
      "outputs": [
        {
          "output_type": "stream",
          "name": "stdout",
          "text": [
            "Drive already mounted at /content/drive; to attempt to forcibly remount, call drive.mount(\"/content/drive\", force_remount=True).\n"
          ]
        }
      ]
    },
    {
      "cell_type": "code",
      "source": [
        "import pandas as pd\n",
        "\n",
        "Korean_menu = pd.read_csv('./drive/MyDrive/menu/Korean_main.csv').iloc[:,1:]\n",
        "American_menu = pd.read_csv('./drive/MyDrive/menu/American_main.csv').iloc[:,1:]\n"
      ],
      "metadata": {
        "id": "mWJC6kZHWngK"
      },
      "execution_count": 17,
      "outputs": []
    },
    {
      "cell_type": "code",
      "source": [
        "print(Korean_menu)"
      ],
      "metadata": {
        "colab": {
          "base_uri": "https://localhost:8080/"
        },
        "id": "AE0MTeGVj5CT",
        "outputId": "2c3f8709-a99f-4db1-928b-2903423ee680"
      },
      "execution_count": 18,
      "outputs": [
        {
          "output_type": "stream",
          "name": "stdout",
          "text": [
            "          제육볶음 간장계란밥 비엔나 소시지 스팸김치볶음밥   돼지고기김치찌개 참치김치찌개  계란찜   된장찌개  비빔국수  \\\n",
            "0   돼지고기(600g)     밥     비엔나      김치  돼지고기 앞다리살    참치캔   계란     양파    국수   \n",
            "1           양파    계란      양파      대파         김치     김치    파  느타리버섯    깻잎   \n",
            "2         청양고추   NaN    파프리카      스팸          파     대파  NaN    애호박    오이   \n",
            "3           대파   NaN     NaN      계란         두부   청양고추  NaN     두부    계란   \n",
            "4          NaN   NaN     NaN     NaN        NaN    NaN  NaN   팽이버섯   골뱅이   \n",
            "5          NaN   NaN     NaN     NaN        NaN    NaN  NaN      파   NaN   \n",
            "6          NaN   NaN     NaN     NaN        NaN    NaN  NaN    NaN   NaN   \n",
            "7          NaN   NaN     NaN     NaN        NaN    NaN  NaN    NaN   NaN   \n",
            "8          NaN   NaN     NaN     NaN        NaN    NaN  NaN    NaN   NaN   \n",
            "9          NaN   NaN     NaN     NaN        NaN    NaN  NaN    NaN   NaN   \n",
            "10         NaN   NaN     NaN     NaN        NaN    NaN  NaN    NaN   NaN   \n",
            "11         NaN   NaN     NaN     NaN        NaN    NaN  NaN    NaN   NaN   \n",
            "12         NaN   NaN     NaN     NaN        NaN    NaN  NaN    NaN   NaN   \n",
            "13         NaN   NaN     NaN     NaN        NaN    NaN  NaN    NaN   NaN   \n",
            "14         NaN   NaN     NaN     NaN        NaN    NaN  NaN    NaN   NaN   \n",
            "15         NaN   NaN     NaN     NaN        NaN    NaN  NaN    NaN   NaN   \n",
            "16          설탕   식용유      케찹       깨        진간장     소금   소금   다진마늘   고추장   \n",
            "17         고추장   참기름    올리고당      간장       고춧가루   고춧가루    깨     쌈장  고춧가루   \n",
            "18          간장     깨     진간장    고춧가루       다진마늘    국간장  NaN     된장    식초   \n",
            "19        고춧가루   진간장     참기름     NaN     소고기다시다   다진마늘  NaN     소금    설탕   \n",
            "20        다진마늘   NaN    다진마늘     NaN        NaN    NaN  NaN   고춧가루  다진마늘   \n",
            "21         굴소스   NaN       깨     NaN        NaN    NaN  NaN    NaN    간장   \n",
            "22        올리고당   NaN      후추     NaN        NaN    NaN  NaN    NaN   와사비   \n",
            "23         NaN   NaN     NaN     NaN        NaN    NaN  NaN    NaN   참기름   \n",
            "24         NaN   NaN     NaN     NaN        NaN    NaN  NaN    NaN  다진고추   \n",
            "25         NaN   NaN     NaN     NaN        NaN    NaN  NaN    NaN     깨   \n",
            "26         NaN   NaN     NaN     NaN        NaN    NaN  NaN    NaN    소금   \n",
            "\n",
            "   꼬막 무침  ...      닭갈비      사골곰탕      부대찌개     미역국  콩나물 해장국      돼지고기 묵은지찜  \\\n",
            "0    꼬막살  ...  닭갈비 밀키트  사골곰탕 밀키트  부대찌개 밀키트     미역국  콩나물 해장국  돼지고기 묵은지찜 밀키트   \n",
            "1     양파  ...      NaN       NaN       NaN  소고기 양지    북어대가리            NaN   \n",
            "2   청양고추  ...      NaN       NaN       NaN     NaN      다시마            NaN   \n",
            "3    홍고추  ...      NaN       NaN       NaN     NaN       양파            NaN   \n",
            "4     소주  ...      NaN       NaN       NaN     NaN     청양고추            NaN   \n",
            "5    NaN  ...      NaN       NaN       NaN     NaN     멸치가루            NaN   \n",
            "6    NaN  ...      NaN       NaN       NaN     NaN      NaN            NaN   \n",
            "7    NaN  ...      NaN       NaN       NaN     NaN      NaN            NaN   \n",
            "8    NaN  ...      NaN       NaN       NaN     NaN      NaN            NaN   \n",
            "9    NaN  ...      NaN       NaN       NaN     NaN      NaN            NaN   \n",
            "10   NaN  ...      NaN       NaN       NaN     NaN      NaN            NaN   \n",
            "11   NaN  ...      NaN       NaN       NaN     NaN      NaN            NaN   \n",
            "12   NaN  ...      NaN       NaN       NaN     NaN      NaN            NaN   \n",
            "13   NaN  ...      NaN       NaN       NaN     NaN      NaN            NaN   \n",
            "14   NaN  ...      NaN       NaN       NaN     NaN      NaN            NaN   \n",
            "15   NaN  ...      NaN       NaN       NaN     NaN      NaN            NaN   \n",
            "16  고춧가루  ...      NaN       NaN       NaN     참기름     다진마늘            NaN   \n",
            "17  다진마늘  ...      NaN       NaN       NaN     국간장      NaN            NaN   \n",
            "18   진간장  ...      NaN       NaN       NaN    다진마늘      새우젓            NaN   \n",
            "19    액젓  ...      NaN       NaN       NaN      소금      국간장            NaN   \n",
            "20    물엿  ...      NaN       NaN       NaN     NaN      NaN            NaN   \n",
            "21     깨  ...      NaN       NaN       NaN     NaN      NaN            NaN   \n",
            "22   NaN  ...      NaN       NaN       NaN     NaN      NaN            NaN   \n",
            "23   NaN  ...      NaN       NaN       NaN     NaN      NaN            NaN   \n",
            "24   NaN  ...      NaN       NaN       NaN     NaN      NaN            NaN   \n",
            "25   NaN  ...      NaN       NaN       NaN     NaN      NaN            NaN   \n",
            "26   NaN  ...      NaN       NaN       NaN     NaN      NaN            NaN   \n",
            "\n",
            "        순두부찌개 김치콩나물국      고추장 불고기      육개장  \n",
            "0   돼지고기 앞다리살     김치  고추장 불고기 밀키트  육개장 밀키트  \n",
            "1         순두부    콩니물          NaN      NaN  \n",
            "2        팽이버섯     양파          NaN      NaN  \n",
            "3          대파     대파          NaN      NaN  \n",
            "4          달걀   청양고추          NaN      NaN  \n",
            "5       느타리버섯    홍고추          NaN      NaN  \n",
            "6          양파    NaN          NaN      NaN  \n",
            "7         NaN    NaN          NaN      NaN  \n",
            "8         NaN    NaN          NaN      NaN  \n",
            "9         NaN    NaN          NaN      NaN  \n",
            "10        NaN    NaN          NaN      NaN  \n",
            "11        NaN    NaN          NaN      NaN  \n",
            "12        NaN    NaN          NaN      NaN  \n",
            "13        NaN    NaN          NaN      NaN  \n",
            "14        NaN    NaN          NaN      NaN  \n",
            "15        NaN    NaN          NaN      NaN  \n",
            "16       고춧가루   다진마늘          NaN      NaN  \n",
            "17         간장   멸치액젓          NaN      NaN  \n",
            "18        참기름    국간장          NaN      NaN  \n",
            "19       다진마늘     설탕          NaN      NaN  \n",
            "20         소금     소금          NaN      NaN  \n",
            "21         설탕   고추가루          NaN      NaN  \n",
            "22        NaN    NaN          NaN      NaN  \n",
            "23        NaN    NaN          NaN      NaN  \n",
            "24        NaN    NaN          NaN      NaN  \n",
            "25        NaN    NaN          NaN      NaN  \n",
            "26        NaN    NaN          NaN      NaN  \n",
            "\n",
            "[27 rows x 22 columns]\n"
          ]
        }
      ]
    },
    {
      "cell_type": "markdown",
      "source": [
        "## Data preprocessing"
      ],
      "metadata": {
        "id": "BOssoOHeDuNi"
      }
    },
    {
      "cell_type": "markdown",
      "source": [
        "### Default ingridents classifiation"
      ],
      "metadata": {
        "id": "LoduX-YqEMwo"
      }
    },
    {
      "cell_type": "code",
      "source": [
        "tmp = Korean_menu.loc[18:].reset_index(drop=True)\n",
        "# print(tmp)\n",
        "# print(tmp[\"Unnamed: 0\"])\n",
        "default_ingrents = []\n",
        "cnt = 0\n",
        "print(len(tmp[\"제육볶음\"]))\n",
        "for i in tmp:\n",
        "  print(tmp[i][cnt])\n",
        "  default_ingrents.append(tmp[i])\n",
        "  cnt += 1\n",
        "\n",
        "# print(default_ingrents)\n"
      ],
      "metadata": {
        "colab": {
          "base_uri": "https://localhost:8080/"
        },
        "id": "M38aIVqOEKA0",
        "outputId": "7cc29db4-4c8f-41f1-ceaf-e1dc3dbbfac8"
      },
      "execution_count": 31,
      "outputs": [
        {
          "output_type": "stream",
          "name": "stdout",
          "text": [
            "9\n"
          ]
        }
      ]
    },
    {
      "cell_type": "code",
      "source": [],
      "metadata": {
        "id": "WvcoTZLHDtkv"
      },
      "execution_count": null,
      "outputs": []
    },
    {
      "cell_type": "code",
      "execution_count": null,
      "metadata": {
        "id": "X2JuWLpHRDUK"
      },
      "outputs": [],
      "source": []
    },
    {
      "cell_type": "code",
      "source": [
        "ㅡ"
      ],
      "metadata": {
        "id": "AWNLxObQRUB3"
      },
      "execution_count": null,
      "outputs": []
    }
  ]
}