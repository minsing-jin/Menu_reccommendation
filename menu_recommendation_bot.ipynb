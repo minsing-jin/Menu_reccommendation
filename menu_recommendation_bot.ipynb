{
  "nbformat": 4,
  "nbformat_minor": 0,
  "metadata": {
    "colab": {
      "provenance": [],
      "authorship_tag": "ABX9TyOorFY/9S5yHVGaTBWnnzhm",
      "include_colab_link": true
    },
    "kernelspec": {
      "name": "python3",
      "display_name": "Python 3"
    },
    "language_info": {
      "name": "python"
    }
  },
  "cells": [
    {
      "cell_type": "markdown",
      "metadata": {
        "id": "view-in-github",
        "colab_type": "text"
      },
      "source": [
        "<a href=\"https://colab.research.google.com/github/minsing-jin/Menu_reccommendation/blob/main/menu_recommendation_bot.ipynb\" target=\"_parent\"><img src=\"https://colab.research.google.com/assets/colab-badge.svg\" alt=\"Open In Colab\"/></a>"
      ]
    },
    {
      "cell_type": "markdown",
      "source": [
        "# MENU recommendation program\n",
        "\n",
        "- 자취 예산을 맞춰서 자동으로 2주치 식단표를 짜주는 프로그램입니다\n",
        "\n",
        "- 예산을 입력하면 쿠팡 식재료 최저가 기준으로 끼니마다의 메뉴들을 예산 아래로 맞춰주어 자동으로 식단표를 추천해줍니다.\n",
        "\n",
        "- 자취 기준이므로 빨리 해먹고 빨리 치울수 있는 것으로 하는 메뉴로 선정했습니다.\n",
        "\n",
        "# Motivation\n",
        "- koprivategpt 프로젝트를 진행하기 위해서 맥북 프로 구입으로 인한 갑작스러운 가난 이슈\n",
        "\n",
        "# 필요한것\n",
        "- 메뉴당 얼마가 들지 항시 업데이트 or 프로그램 돌릴때마다 업데이트(csv파일 수작업)\n",
        "> 메뉴당 어떠한 식재료가 필요한가 초반 csv 파일 작업 후 pandas로 불러온다음 메뉴의 값은 프로그램에서 돌리면서 업데이트\n",
        "\n",
        " > 메뉴판 구성할때 categorize를 하여 식단표 구성할때 옵션을 구성\n",
        "\n",
        "\n",
        "- 쿠팡 식재료 종류 자동검색 및 최저가에 해당하는 식재료 크롤링 후 선별\n",
        "\n",
        "- 링크 포함\n",
        "\n",
        "- 식단표에 해당하는 table 자동 작성 기능\n",
        "\n",
        "- 시간 가용한대로 slack bot에 전달\n",
        "\n",
        "### 검색 조건 및 선택지\n",
        "\n",
        "- 반찬 완제품으로 할것인가?\n",
        "\n",
        "- 예산은 얼마나 쓸것인가?\n",
        "\n",
        "- 밀키트를 얼마나 쓸것인가?\n",
        "\n",
        "- 양식, 중식, 한식, 일식 비율\n"
      ],
      "metadata": {
        "id": "6Ti1WZq7RU2c"
      }
    },
    {
      "cell_type": "markdown",
      "source": [
        "# 메뉴판 업데이트"
      ],
      "metadata": {
        "id": "RILER8ZQT2Jt"
      }
    },
    {
      "cell_type": "code",
      "execution_count": null,
      "metadata": {
        "id": "X2JuWLpHRDUK"
      },
      "outputs": [],
      "source": []
    },
    {
      "cell_type": "code",
      "source": [
        "ㅡ"
      ],
      "metadata": {
        "id": "AWNLxObQRUB3"
      },
      "execution_count": null,
      "outputs": []
    }
  ]
}