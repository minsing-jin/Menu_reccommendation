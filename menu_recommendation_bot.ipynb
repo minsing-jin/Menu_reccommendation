{
  "nbformat": 4,
  "nbformat_minor": 0,
  "metadata": {
    "colab": {
      "provenance": [],
      "mount_file_id": "16K4CsUDh0BxIA0ebrDvhjdeNvf8n91J-",
      "authorship_tag": "ABX9TyMN8lD2/b/JNGphgsiFqZs7",
      "include_colab_link": true
    },
    "kernelspec": {
      "name": "python3",
      "display_name": "Python 3"
    },
    "language_info": {
      "name": "python"
    }
  },
  "cells": [
    {
      "cell_type": "markdown",
      "metadata": {
        "id": "view-in-github",
        "colab_type": "text"
      },
      "source": [
        "<a href=\"https://colab.research.google.com/github/minsing-jin/Menu_reccommendation/blob/main/menu_recommendation_bot.ipynb\" target=\"_parent\"><img src=\"https://colab.research.google.com/assets/colab-badge.svg\" alt=\"Open In Colab\"/></a>"
      ]
    },
    {
      "cell_type": "markdown",
      "source": [
        "# MENU recommendation program\n",
        "\n",
        "- 자취 예산을 맞춰서 자동으로 2주치 식단표를 짜주는 프로그램입니다\n",
        "\n",
        "- 예산을 입력하면 쿠팡 식재료 최저가 기준으로 끼니마다의 메뉴들을 예산 아래로 맞춰주어 자동으로 식단표를 추천해줍니다.\n",
        "\n",
        "- 자취 기준이므로 빨리 해먹고 빨리 치울수 있는 것으로 하는 메뉴로 선정했습니다.\n",
        "\n",
        "# Motivation\n",
        "- koprivategpt 프로젝트를 진행하기 위해서 맥북 프로 구입으로 인한 갑작스러운 가난 이슈\n",
        "\n",
        "- 자취밥값 계산하려다가 급 귀찮아짐 issue(하나하나 다 계산하는거 너무 귀찮아유)\n",
        "\n",
        "# 필요한것\n",
        "- 메뉴당 얼마가 들지 항시 업데이트 or 프로그램 돌릴때마다 업데이트(csv파일 수작업)\n",
        "> 메뉴당 어떠한 식재료가 필요한가 초반 csv 파일 작업 후 pandas로 불러온다음 메뉴의 값은 프로그램에서 돌리면서 업데이트\n",
        "\n",
        " > 메뉴판 구성할때 categorize를 하여 식단표 구성할때 옵션을 구성\n",
        "\n",
        "\n",
        "- 쿠팡 식재료 종류 자동검색 및 최저가에 해당하는 식재료 크롤링 후 선별\n",
        "\n",
        "- 링크 포함\n",
        "\n",
        "- 식단표에 해당하는 table 자동 작성 기능\n",
        "\n",
        "- 시간 가용한대로 slack bot에 전달\n",
        "\n",
        "- 한식일경우 메인메뉴와 반찬의 조합을 따질것\n",
        "\n",
        "### 검색 조건 및 선택지\n",
        "\n",
        "- 반찬 완제품으로 할것인가?\n",
        "\n",
        "- 예산은 얼마나 쓸것인가?\n",
        "\n",
        "- 밀키트를 얼마나 쓸것인가?\n",
        "\n",
        "- 양식, 중식, 한식, 일식 비율\n",
        "\n",
        "### Issue\n",
        "\n",
        "- 양념과 같은 것은 어떻게 할것인가?(한번 사면 꽤 오래 쓰는 것들)\n",
        ">3달에 한번씩 사는걸로 하고 시세만 계산해주기<br>\n",
        "그 시세를 3으로 나눈후(1달당 소비되는 양에 대한 양념가격) 예산입력후 미리 차감하여 메뉴 구성\n",
        "\n",
        "- 식재료마다 소진되는 속도차이는 어떻게 해결할것인가?\n",
        "\n",
        "- 돼지고기 같은 소분해야하는 식재료들은 어떻게 분배할것인가? -> 조건설정\n",
        "\n",
        "- 식재료 한번 사면 얼마나 분배? 식재료 특성들 다 마킹해서 몇번 쓸 수 있을지 점수로 분배?\n",
        "\n",
        "- 기본 템들은 어떻게 할것? 매번 살수는 없음\n",
        "\n",
        "default item\n",
        "1. 밥(한달로 계산)\n",
        "2. 간장\n",
        "3. 깨\n",
        "4. 소금\n",
        "5.\n",
        "\n",
        "\n",
        "- 반찬은 따로 구입(너무 시간 많이 듦)\n",
        "\n",
        "- 아니면 재료마다 쿠팡 최저가 검색후\n",
        "가격에 쓸수 있는 횟수를 나눠서 1회 평균 사용가격으로 예산 맞추기?\n",
        "\n",
        "- 장보기 recommendation\n",
        "\n",
        "- 음식하는 시간은 최대한 줄일 수 있도록 시간을 벌 수 있는 메뉴로 구성하기\n",
        "\n",
        "- 아예 밀키트로 구성할까?\n",
        "\n",
        "- 일주일 3일 닭가슴살\n",
        "\n"
      ],
      "metadata": {
        "id": "6Ti1WZq7RU2c"
      }
    },
    {
      "cell_type": "markdown",
      "source": [
        "# 메뉴판 업데이트"
      ],
      "metadata": {
        "id": "RILER8ZQT2Jt"
      }
    },
    {
      "cell_type": "markdown",
      "source": [
        "## CSV파일 불러오기"
      ],
      "metadata": {
        "id": "5QvjgS3gWoP_"
      }
    },
    {
      "cell_type": "code",
      "source": [
        "from google.colab import drive\n",
        "drive.mount('/content/drive')"
      ],
      "metadata": {
        "colab": {
          "base_uri": "https://localhost:8080/"
        },
        "id": "JphEWIARCk68",
        "outputId": "c37a1cdc-c938-4dee-faf8-f0b5c9d04121"
      },
      "execution_count": 25,
      "outputs": [
        {
          "output_type": "stream",
          "name": "stdout",
          "text": [
            "Drive already mounted at /content/drive; to attempt to forcibly remount, call drive.mount(\"/content/drive\", force_remount=True).\n"
          ]
        }
      ]
    },
    {
      "cell_type": "code",
      "source": [
        "import pandas as pd\n",
        "import numpy as np\n",
        "\n",
        "Korean_menu = pd.read_csv('./drive/MyDrive/menu/Korean_main.csv').iloc[:,1:]\n",
        "American_menu = pd.read_csv('./drive/MyDrive/menu/American_main.csv').iloc[:,1:]"
      ],
      "metadata": {
        "id": "mWJC6kZHWngK"
      },
      "execution_count": 35,
      "outputs": []
    },
    {
      "cell_type": "code",
      "source": [
        "# print(Korean_menu)\n",
        "# print()"
      ],
      "metadata": {
        "id": "AE0MTeGVj5CT"
      },
      "execution_count": 16,
      "outputs": []
    },
    {
      "cell_type": "markdown",
      "source": [
        "## Data preprocessing"
      ],
      "metadata": {
        "id": "BOssoOHeDuNi"
      }
    },
    {
      "cell_type": "markdown",
      "source": [
        "### Default ingridents classifiation"
      ],
      "metadata": {
        "id": "LoduX-YqEMwo"
      }
    },
    {
      "cell_type": "code",
      "source": [
        "# 한식\n",
        "\n",
        "tmp = Korean_menu.loc[18:].reset_index(drop=True)\n",
        "tmp_2 = American_menu.loc[16:].reset_index(drop=True)\n",
        "default_ingrents = []\n",
        "print(tmp_2)\n",
        "# Korean menu default ingredients\n",
        "for i in tmp:\n",
        "  for n in range(len(tmp[i])):\n",
        "\n",
        "    if type(tmp[i][n]) != float:          # Nan값 제거후 양념같은 디폴트 식재료는 빼놓음\n",
        "      default_ingrents.append(tmp[i][n])\n",
        "\n",
        "# American menu default ingredients\n",
        "for i in tmp_2:\n",
        "  for n in range(len(tmp_2[i])):\n",
        "    print(tmp_2[i][n])\n",
        "    if type(tmp_2[i][n]) != float:          # Nan값 제거후 양념같은 디폴트 식재료는 빼놓음\n",
        "      default_ingrents.append(tmp_2[i][n])\n",
        "\n",
        "\n",
        "default_ingrents = set(default_ingrents)   # 중복 식재료 버리기\n",
        "print(default_ingrents)"
      ],
      "metadata": {
        "colab": {
          "base_uri": "https://localhost:8080/"
        },
        "id": "M38aIVqOEKA0",
        "outputId": "fa5cd8e5-a6ab-4cb5-b051-28c74a7d8387"
      },
      "execution_count": 32,
      "outputs": [
        {
          "output_type": "stream",
          "name": "stdout",
          "text": [
            "  토스트 스파게티 하울정식 포테이토피자\n",
            "0  버터  NaN  NaN     케첩\n",
            "1  설탕  NaN  NaN    NaN\n",
            "2  케첩  NaN  NaN    NaN\n",
            "버터\n",
            "설탕\n",
            "케첩\n",
            "nan\n",
            "nan\n",
            "nan\n",
            "nan\n",
            "nan\n",
            "nan\n",
            "케첩\n",
            "nan\n",
            "nan\n",
            "{'액젓', '와사비', '굴소스', '간장', '새우젓', '식초', '된장', '버터', '설탕', '국간장', '고춧가루', '소금', '진간장', '후추', '다진고추', '다진마늘', '소고기다시다', '물엿', '참기름', '케첩', '고추가루', '올리고당', '깨'}\n"
          ]
        }
      ]
    },
    {
      "cell_type": "markdown",
      "source": [
        "## Put a price on menu"
      ],
      "metadata": {
        "id": "f0zdX9bDhGVD"
      }
    },
    {
      "cell_type": "markdown",
      "source": [
        "### Put a price on default ingredients using crawling"
      ],
      "metadata": {
        "id": "4afBgDOAigMf"
      }
    },
    {
      "cell_type": "markdown",
      "source": [
        "### Put a price on random menu"
      ],
      "metadata": {
        "id": "P8tTnMLqi019"
      }
    },
    {
      "cell_type": "code",
      "source": [
        "# 예산을 입력하세요\n",
        "Budget = int(input())\n"
      ],
      "metadata": {
        "colab": {
          "base_uri": "https://localhost:8080/"
        },
        "id": "S9lY67oBi8IZ",
        "outputId": "55ea2ca4-f798-4f9d-eb08-54e1bd9e6647"
      },
      "execution_count": 34,
      "outputs": [
        {
          "name": "stdout",
          "output_type": "stream",
          "text": [
            "10\n"
          ]
        }
      ]
    }
  ]
}